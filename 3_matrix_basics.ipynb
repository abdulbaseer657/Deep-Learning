{
  "nbformat": 4,
  "nbformat_minor": 0,
  "metadata": {
    "colab": {
      "name": "3.matrix basics.ipynb",
      "provenance": []
    },
    "kernelspec": {
      "name": "python3",
      "display_name": "Python 3"
    },
    "language_info": {
      "name": "python"
    }
  },
  "cells": [
    {
      "cell_type": "code",
      "metadata": {
        "id": "l7WX-Aglj_zK"
      },
      "source": [
        "#using numpy for matrices in python\n",
        "\n",
        "import numpy as np"
      ],
      "execution_count": 1,
      "outputs": []
    },
    {
      "cell_type": "code",
      "metadata": {
        "colab": {
          "base_uri": "https://localhost:8080/"
        },
        "id": "rQaQnsHVkKWQ",
        "outputId": "5bc36138-632d-45a0-cdcf-00e75f3b2b7c"
      },
      "source": [
        "#creating matrices using numpy\n",
        "\n",
        "revenue = np.array([[80,150,200],[70,140,190],[90,160,210]])\n",
        "expense = np.array([[40,75,100],[30,65,90],[50,85,110]])\n",
        "\n",
        "print(revenue)"
      ],
      "execution_count": 7,
      "outputs": [
        {
          "output_type": "stream",
          "name": "stdout",
          "text": [
            "[[ 80 150 200]\n",
            " [ 70 140 190]\n",
            " [ 90 160 210]]\n"
          ]
        }
      ]
    },
    {
      "cell_type": "code",
      "metadata": {
        "colab": {
          "base_uri": "https://localhost:8080/"
        },
        "id": "q3sA-qH5kKXb",
        "outputId": "437f7cb0-bf6f-45d7-8ae5-d7828a05dc1d"
      },
      "source": [
        "#simple matrix subraction \n",
        "# matrix multiplication and addition are similar\n",
        "\n",
        "profit=revenue-expense\n",
        "print(profit)"
      ],
      "execution_count": 10,
      "outputs": [
        {
          "output_type": "stream",
          "name": "stdout",
          "text": [
            "[[ 40  75 100]\n",
            " [ 40  75 100]\n",
            " [ 40  75 100]]\n"
          ]
        }
      ]
    },
    {
      "cell_type": "code",
      "metadata": {
        "colab": {
          "base_uri": "https://localhost:8080/"
        },
        "id": "w3V4XVEVkKal",
        "outputId": "276dcde1-f264-4293-d439-338154526dd1"
      },
      "source": [
        "#Dot product in numpy \n",
        "\n",
        "price = np.array([[80,150,200]])\n",
        "units = np.array([[40,75,100],[30,65,90],[50,85,110]])\n",
        "\n",
        "np.dot(price,units)\n"
      ],
      "execution_count": 11,
      "outputs": [
        {
          "output_type": "execute_result",
          "data": {
            "text/plain": [
              "array([[17700, 32750, 43500]])"
            ]
          },
          "metadata": {},
          "execution_count": 11
        }
      ]
    },
    {
      "cell_type": "code",
      "metadata": {
        "colab": {
          "base_uri": "https://localhost:8080/"
        },
        "id": "jy4BMM0SlsSj",
        "outputId": "18afce5b-8352-4fb7-f1d2-216f609a2ddb"
      },
      "source": [
        "#excersise -> converting indian rupees into us Dollar\n",
        "\n",
        "inr = np.array([[40,75,100],[30,65,90],[50,85,110]])\n",
        "\n",
        "# 1 usd = 75 inr\n",
        "\n",
        "print(inr*75)"
      ],
      "execution_count": 14,
      "outputs": [
        {
          "output_type": "stream",
          "name": "stdout",
          "text": [
            "[[3000 5625 7500]\n",
            " [2250 4875 6750]\n",
            " [3750 6375 8250]]\n"
          ]
        }
      ]
    }
  ]
}