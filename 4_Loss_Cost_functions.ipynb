{
  "nbformat": 4,
  "nbformat_minor": 0,
  "metadata": {
    "colab": {
      "name": "4.Loss /Cost functions.ipynb",
      "provenance": []
    },
    "kernelspec": {
      "name": "python3",
      "display_name": "Python 3"
    },
    "language_info": {
      "name": "python"
    }
  },
  "cells": [
    {
      "cell_type": "code",
      "metadata": {
        "id": "Gl0Sg20GobGP"
      },
      "source": [
        "import numpy as np\n",
        "\n",
        "y_pred = np.array([1,1,0,0,1])\n",
        "y_true = np.array([0.30,0.7,1,0,0.5])\n"
      ],
      "execution_count": 4,
      "outputs": []
    },
    {
      "cell_type": "code",
      "metadata": {
        "id": "GwYF0GcS2Q1Q"
      },
      "source": [
        "#implementing mean absolute error\n",
        "def mea(y_true,y_pred):\n",
        "  error=0\n",
        "  for yt,yp in zip(y_true,y_pred):\n",
        "    error += abs(yt-yp)\n",
        "  print('total error: ',error)\n",
        "  mea = error/len(y_true)\n",
        "  print('mea error: ',mea)\n",
        "  return mea"
      ],
      "execution_count": 8,
      "outputs": []
    },
    {
      "cell_type": "code",
      "metadata": {
        "colab": {
          "base_uri": "https://localhost:8080/"
        },
        "id": "307vxU5i2RHb",
        "outputId": "01283db6-bddf-44ec-b480-fc6e4f5a03ed"
      },
      "source": [
        "mea(y_true,y_pred)"
      ],
      "execution_count": 9,
      "outputs": [
        {
          "output_type": "stream",
          "name": "stdout",
          "text": [
            "total error:  2.5\n",
            "mea error:  0.5\n"
          ]
        },
        {
          "output_type": "execute_result",
          "data": {
            "text/plain": [
              "0.5"
            ]
          },
          "metadata": {},
          "execution_count": 9
        }
      ]
    },
    {
      "cell_type": "code",
      "metadata": {
        "colab": {
          "base_uri": "https://localhost:8080/"
        },
        "id": "VRnpgWa8iHIe",
        "outputId": "e759f62d-00f7-48a9-a7cd-f2df3f6d91ec"
      },
      "source": [
        "epsilon=1e-15\n",
        "y_pred_new=[max(i,epsilon) for i in y_pred]\n",
        "y_pred_new"
      ],
      "execution_count": 14,
      "outputs": [
        {
          "output_type": "execute_result",
          "data": {
            "text/plain": [
              "[1, 1, 1e-15, 1e-15, 1]"
            ]
          },
          "metadata": {},
          "execution_count": 14
        }
      ]
    },
    {
      "cell_type": "code",
      "metadata": {
        "colab": {
          "base_uri": "https://localhost:8080/"
        },
        "id": "g9FOYKpniHJv",
        "outputId": "012ae32f-52de-498d-dc4f-be13f7fde8c6"
      },
      "source": [
        "y_pred_new=[min(i,1-epsilon) for i in y_pred_new]\n",
        "y_pred_new"
      ],
      "execution_count": 15,
      "outputs": [
        {
          "output_type": "execute_result",
          "data": {
            "text/plain": [
              "[0.999999999999999, 0.999999999999999, 1e-15, 1e-15, 0.999999999999999]"
            ]
          },
          "metadata": {},
          "execution_count": 15
        }
      ]
    },
    {
      "cell_type": "code",
      "metadata": {
        "id": "RaJIAmaK2RLF"
      },
      "source": [
        "#log loss or Binary cross entropy\n",
        "def log_loss(y_true,y_pred):\n",
        "  epsilon=1e-15\n",
        "  y_pred_new=[max(i,epsilon) for i in y_pred]\n",
        "  y_pred_new=[min(i,1-epsilon) for i in y_pred_new]\n",
        "  y_pred_new=np.array(y_pred_new)\n",
        "  return -np.mean(y_true*np.log(y_pred_new)+(1-y_true)*np.log(1-y_pred_new))\n"
      ],
      "execution_count": 16,
      "outputs": []
    },
    {
      "cell_type": "code",
      "metadata": {
        "id": "E2XpmgPY2RMb",
        "colab": {
          "base_uri": "https://localhost:8080/"
        },
        "outputId": "f5e0ba9e-d555-49a5-af8d-00c2d2e9fe78"
      },
      "source": [
        "log_loss(y_true,y_pred)"
      ],
      "execution_count": 17,
      "outputs": [
        {
          "output_type": "execute_result",
          "data": {
            "text/plain": [
              "17.2696280766844"
            ]
          },
          "metadata": {},
          "execution_count": 17
        }
      ]
    },
    {
      "cell_type": "code",
      "metadata": {
        "id": "Br8yRfFj2RPn"
      },
      "source": [
        ""
      ],
      "execution_count": null,
      "outputs": []
    },
    {
      "cell_type": "code",
      "metadata": {
        "id": "BePwIa9m2RS8"
      },
      "source": [
        ""
      ],
      "execution_count": null,
      "outputs": []
    },
    {
      "cell_type": "code",
      "metadata": {
        "id": "3oEuH-ze2RUj"
      },
      "source": [
        ""
      ],
      "execution_count": null,
      "outputs": []
    }
  ]
}