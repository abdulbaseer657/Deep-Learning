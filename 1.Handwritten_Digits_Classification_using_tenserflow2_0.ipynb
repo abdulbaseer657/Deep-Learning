{
  "nbformat": 4,
  "nbformat_minor": 0,
  "metadata": {
    "colab": {
      "name": "Handwritten Digits Classification using tenserflow2.0.ipynb",
      "provenance": [],
      "collapsed_sections": []
    },
    "kernelspec": {
      "name": "python3",
      "display_name": "Python 3"
    },
    "language_info": {
      "name": "python"
    }
  },
  "cells": [
    {
      "cell_type": "code",
      "metadata": {
        "id": "f4EKa5gumA-B"
      },
      "source": [
        "import tensorflow as tf \n",
        "from tensorflow import keras\n",
        "import matplotlib.pyplot as plt\n",
        "%matplotlib inline\n",
        "import numpy as np"
      ],
      "execution_count": 2,
      "outputs": []
    },
    {
      "cell_type": "code",
      "metadata": {
        "colab": {
          "base_uri": "https://localhost:8080/"
        },
        "id": "GbEavmBXnTYy",
        "outputId": "8e870e19-1931-401a-80e6-94292077f3cf"
      },
      "source": [
        "#loadind test and train dataset of handwritten digits from keras \n",
        "(x_train,y_train),(x_test,y_test)= keras.datasets.mnist.load_data()"
      ],
      "execution_count": 3,
      "outputs": [
        {
          "output_type": "stream",
          "name": "stdout",
          "text": [
            "Downloading data from https://storage.googleapis.com/tensorflow/tf-keras-datasets/mnist.npz\n",
            "11493376/11490434 [==============================] - 0s 0us/step\n",
            "11501568/11490434 [==============================] - 0s 0us/step\n"
          ]
        }
      ]
    },
    {
      "cell_type": "code",
      "metadata": {
        "colab": {
          "base_uri": "https://localhost:8080/"
        },
        "id": "KcOsB5RnnTaS",
        "outputId": "dd48d1a5-38ab-47aa-cc69-a71a3f08c03c"
      },
      "source": [
        "print(len(x_train))\n",
        "print(len(x_test))"
      ],
      "execution_count": 10,
      "outputs": [
        {
          "output_type": "stream",
          "name": "stdout",
          "text": [
            "60000\n",
            "10000\n"
          ]
        }
      ]
    },
    {
      "cell_type": "code",
      "metadata": {
        "colab": {
          "base_uri": "https://localhost:8080/"
        },
        "id": "KArVN3YinTeD",
        "outputId": "0fdb052a-73d9-4491-8ccb-6a6783678068"
      },
      "source": [
        "#each image is a 28x28 matrix of pixels ranging between 0 to 255\n",
        "x_train[0].shape"
      ],
      "execution_count": 13,
      "outputs": [
        {
          "output_type": "execute_result",
          "data": {
            "text/plain": [
              "(28, 28)"
            ]
          },
          "metadata": {},
          "execution_count": 13
        }
      ]
    },
    {
      "cell_type": "code",
      "metadata": {
        "id": "bkpDkTXAnTe-"
      },
      "source": [
        "#representing image in 2 D array , here 0 is black and 255 is white colour in the image\n",
        "x_train[0]"
      ],
      "execution_count": null,
      "outputs": []
    },
    {
      "cell_type": "code",
      "metadata": {
        "colab": {
          "base_uri": "https://localhost:8080/",
          "height": 292
        },
        "id": "uIFJ-zghnTr7",
        "outputId": "4da21f29-e76a-4e97-ec35-fc6f6af0aff5"
      },
      "source": [
        "#visualizing 2D array into image using matplotlib \n",
        "plt.matshow(x_train[0])"
      ],
      "execution_count": 15,
      "outputs": [
        {
          "output_type": "execute_result",
          "data": {
            "text/plain": [
              "<matplotlib.image.AxesImage at 0x7f527e287c10>"
            ]
          },
          "metadata": {},
          "execution_count": 15
        },
        {
          "output_type": "display_data",
          "data": {
            "image/png": "[encoded data removed]",
            "text/plain": [
              "<Figure size 288x288 with 1 Axes>"
            ]
          },
          "metadata": {
            "needs_background": "light"
          }
        }
      ]
    },
    {
      "cell_type": "code",
      "metadata": {
        "id": "qpPRlf227Ikj"
      },
      "source": [
        "#scaling the values \n",
        "x_train=x_train/255\n",
        "x_test=x_test/255"
      ],
      "execution_count": 27,
      "outputs": []
    },
    {
      "cell_type": "code",
      "metadata": {
        "colab": {
          "base_uri": "https://localhost:8080/"
        },
        "id": "mvNmZFxxnTsy",
        "outputId": "be05b79e-8a9f-423a-ee8d-ed5738b33129"
      },
      "source": [
        "#flattening the 2d array(matrix) into single dimension\n",
        "x_train_flattened=(x_train.reshape(len(x_train),28*28))\n",
        "x_test_flattened=(x_test.reshape(len(x_test),28*28))\n",
        "x_train_flattened.shape"
      ],
      "execution_count": 33,
      "outputs": [
        {
          "output_type": "execute_result",
          "data": {
            "text/plain": [
              "(60000, 784)"
            ]
          },
          "metadata": {},
          "execution_count": 33
        }
      ]
    },
    {
      "cell_type": "code",
      "metadata": {
        "colab": {
          "base_uri": "https://localhost:8080/"
        },
        "id": "cibxmC_BqZuV",
        "outputId": "74bc15cf-9f97-428f-ad0d-465809bfd4f7"
      },
      "source": [
        "#creating a basic neural network (single layer)\n",
        "model = keras.Sequential([\n",
        "        keras.layers.Dense(10,input_shape=(784,),activation='sigmoid')\n",
        "])\n",
        "#compiling the model\n",
        "model.compile(\n",
        "    optimizer='adam',\n",
        "    loss='sparse_categorical_crossentropy',\n",
        "    metrics=['accuracy']\n",
        ")\n",
        "\n",
        "#fitting model to training data\n",
        "model.fit(x_train_flattened,y_train,epochs=10)\n"
      ],
      "execution_count": 32,
      "outputs": [
        {
          "output_type": "stream",
          "name": "stdout",
          "text": [
            "Epoch 1/10\n",
            "1875/1875 [==============================] - 3s 1ms/step - loss: 0.4737 - accuracy: 0.8762\n",
            "Epoch 2/10\n",
            "1875/1875 [==============================] - 2s 1ms/step - loss: 0.3042 - accuracy: 0.9153\n",
            "Epoch 3/10\n",
            "1875/1875 [==============================] - 2s 1ms/step - loss: 0.2838 - accuracy: 0.9209\n",
            "Epoch 4/10\n",
            "1875/1875 [==============================] - 2s 1ms/step - loss: 0.2731 - accuracy: 0.9236\n",
            "Epoch 5/10\n",
            "1875/1875 [==============================] - 2s 1ms/step - loss: 0.2667 - accuracy: 0.9257\n",
            "Epoch 6/10\n",
            "1875/1875 [==============================] - 2s 1ms/step - loss: 0.2622 - accuracy: 0.9274\n",
            "Epoch 7/10\n",
            "1875/1875 [==============================] - 2s 1ms/step - loss: 0.2585 - accuracy: 0.9283\n",
            "Epoch 8/10\n",
            "1875/1875 [==============================] - 2s 1ms/step - loss: 0.2552 - accuracy: 0.9300\n",
            "Epoch 9/10\n",
            "1875/1875 [==============================] - 2s 1ms/step - loss: 0.2526 - accuracy: 0.9302\n",
            "Epoch 10/10\n",
            "1875/1875 [==============================] - 2s 1ms/step - loss: 0.2511 - accuracy: 0.9305\n"
          ]
        },
        {
          "output_type": "execute_result",
          "data": {
            "text/plain": [
              "<keras.callbacks.History at 0x7f52790d09d0>"
            ]
          },
          "metadata": {},
          "execution_count": 32
        }
      ]
    },
    {
      "cell_type": "code",
      "metadata": {
        "colab": {
          "base_uri": "https://localhost:8080/"
        },
        "id": "KDaoxqLaqZvV",
        "outputId": "0ba55bef-b023-48d4-c913-2a12570612ad"
      },
      "source": [
        "#evaluating the accurecy of the model on test data\n",
        "model.evaluate(x_test_flattened,y_test)"
      ],
      "execution_count": 34,
      "outputs": [
        {
          "output_type": "stream",
          "name": "stdout",
          "text": [
            "313/313 [==============================] - 1s 1ms/step - loss: 0.2676 - accuracy: 0.9253\n"
          ]
        },
        {
          "output_type": "execute_result",
          "data": {
            "text/plain": [
              "[0.26758697628974915, 0.9253000020980835]"
            ]
          },
          "metadata": {},
          "execution_count": 34
        }
      ]
    },
    {
      "cell_type": "code",
      "metadata": {
        "colab": {
          "base_uri": "https://localhost:8080/"
        },
        "id": "4AaEhse9qZyo",
        "outputId": "2574ce64-96e8-415a-ceb5-e08661461d25"
      },
      "source": [
        "#predicting the values of test data\n",
        "y_pred = model.predict(x_test_flattened)\n",
        "y_pred[0]"
      ],
      "execution_count": 35,
      "outputs": [
        {
          "output_type": "execute_result",
          "data": {
            "text/plain": [
              "array([5.39106131e-03, 1.02672155e-08, 9.48876143e-03, 9.71345782e-01,\n",
              "       1.06266141e-03, 1.13758087e-01, 3.67327750e-08, 9.99851346e-01,\n",
              "       4.61558104e-02, 6.38061643e-01], dtype=float32)"
            ]
          },
          "metadata": {},
          "execution_count": 35
        }
      ]
    },
    {
      "cell_type": "code",
      "metadata": {
        "colab": {
          "base_uri": "https://localhost:8080/"
        },
        "id": "T8DyaG7cqZz2",
        "outputId": "a9d3b532-ac71-42d0-be96-93bb4ade7216"
      },
      "source": [
        "#using argmax to find the predicted value\n",
        "np.argmax(y_pred[0])\n",
        "y_pred_lebels=[np.argmax(i) for i in y_pred]\n",
        "y_pred_lebels[:5]"
      ],
      "execution_count": 38,
      "outputs": [
        {
          "output_type": "execute_result",
          "data": {
            "text/plain": [
              "[7, 2, 1, 0, 4]"
            ]
          },
          "metadata": {},
          "execution_count": 38
        }
      ]
    },
    {
      "cell_type": "code",
      "metadata": {
        "colab": {
          "base_uri": "https://localhost:8080/"
        },
        "id": "gN41mN0anTwG",
        "outputId": "36bc97d6-3471-412f-d5eb-55f35d322d2a"
      },
      "source": [
        "#buiulding confusion matrix\n",
        "cm =tf.math.confusion_matrix(labels=y_test,predictions=y_pred_lebels)\n",
        "cm"
      ],
      "execution_count": 43,
      "outputs": [
        {
          "output_type": "execute_result",
          "data": {
            "text/plain": [
              "<tf.Tensor: shape=(10, 10), dtype=int32, numpy=\n",
              "array([[ 963,    0,    1,    2,    0,    5,    6,    2,    1,    0],\n",
              "       [   0, 1112,    3,    2,    0,    1,    4,    2,   11,    0],\n",
              "       [   6,    8,  928,   19,    5,    3,   13,   11,   34,    5],\n",
              "       [   2,    0,   15,  941,    0,   22,    2,   10,   11,    7],\n",
              "       [   1,    1,    5,    2,  898,    0,   15,    5,    9,   46],\n",
              "       [   8,    2,    1,   36,    7,  785,   14,    7,   26,    6],\n",
              "       [  13,    3,    4,    2,    7,   12,  915,    1,    1,    0],\n",
              "       [   1,    6,   20,   10,    3,    1,    0,  954,    2,   31],\n",
              "       [  10,    9,    6,   35,    8,   36,   12,   13,  834,   11],\n",
              "       [  11,    7,    1,   14,   17,    6,    0,   27,    3,  923]],\n",
              "      dtype=int32)>"
            ]
          },
          "metadata": {},
          "execution_count": 43
        }
      ]
    },
    {
      "cell_type": "code",
      "metadata": {
        "colab": {
          "base_uri": "https://localhost:8080/",
          "height": 459
        },
        "id": "vCoec7aFnTxG",
        "outputId": "34840808-13fc-4e1c-ad32-6df2e412656a"
      },
      "source": [
        "#using seaborn to visualize the confusion matrix\n",
        "import seaborn as sn\n",
        "plt.figure(figsize=(10,7))\n",
        "sn.heatmap(cm, annot=True,fmt='d')\n",
        "plt.xlabel('predicted')\n",
        "plt.ylabel('Truth')"
      ],
      "execution_count": 45,
      "outputs": [
        {
          "output_type": "execute_result",
          "data": {
            "text/plain": [
              "Text(69.0, 0.5, 'Truth')"
            ]
          },
          "metadata": {},
          "execution_count": 45
        },
        {
          "output_type": "display_data",
          "data": {
            "image/png": "[encoded data removed]",
            "text/plain": [
              "<Figure size 720x504 with 2 Axes>"
            ]
          },
          "metadata": {
            "needs_background": "light"
          }
        }
      ]
    },
    {
      "cell_type": "code",
      "metadata": {
        "colab": {
          "base_uri": "https://localhost:8080/"
        },
        "id": "9lE-ON-_HtLw",
        "outputId": "febede7b-f9dc-4113-cdd4-38a1d8d94438"
      },
      "source": [
        "#adding a hidden layer to the single layer neural network\n",
        "model = keras.Sequential([\n",
        "        keras.layers.Dense(100,input_shape=(784,),activation='tanh'),\n",
        "        keras.layers.Dense(10,activation='sigmoid')\n",
        "])\n",
        "#compiling the model\n",
        "model.compile(\n",
        "    optimizer='adam',\n",
        "    loss='sparse_categorical_crossentropy',\n",
        "    metrics=['accuracy']\n",
        ")\n",
        "\n",
        "#fitting model to training data\n",
        "model.fit(x_train_flattened,y_train,epochs=10)\n"
      ],
      "execution_count": 48,
      "outputs": [
        {
          "output_type": "stream",
          "name": "stdout",
          "text": [
            "Epoch 1/10\n",
            "1875/1875 [==============================] - 4s 2ms/step - loss: 0.2943 - accuracy: 0.9156\n",
            "Epoch 2/10\n",
            "1875/1875 [==============================] - 4s 2ms/step - loss: 0.1448 - accuracy: 0.9582\n",
            "Epoch 3/10\n",
            "1875/1875 [==============================] - 3s 2ms/step - loss: 0.0996 - accuracy: 0.9706\n",
            "Epoch 4/10\n",
            "1875/1875 [==============================] - 4s 2ms/step - loss: 0.0766 - accuracy: 0.9782\n",
            "Epoch 5/10\n",
            "1875/1875 [==============================] - 3s 2ms/step - loss: 0.0584 - accuracy: 0.9834\n",
            "Epoch 6/10\n",
            "1875/1875 [==============================] - 4s 2ms/step - loss: 0.0471 - accuracy: 0.9866\n",
            "Epoch 7/10\n",
            "1875/1875 [==============================] - 4s 2ms/step - loss: 0.0378 - accuracy: 0.9895\n",
            "Epoch 8/10\n",
            "1875/1875 [==============================] - 4s 2ms/step - loss: 0.0301 - accuracy: 0.9920\n",
            "Epoch 9/10\n",
            "1875/1875 [==============================] - 4s 2ms/step - loss: 0.0245 - accuracy: 0.9937\n",
            "Epoch 10/10\n",
            "1875/1875 [==============================] - 4s 2ms/step - loss: 0.0204 - accuracy: 0.9945\n"
          ]
        },
        {
          "output_type": "execute_result",
          "data": {
            "text/plain": [
              "<keras.callbacks.History at 0x7f526e8cb210>"
            ]
          },
          "metadata": {},
          "execution_count": 48
        }
      ]
    },
    {
      "cell_type": "code",
      "metadata": {
        "colab": {
          "base_uri": "https://localhost:8080/"
        },
        "id": "RrYbg-WlHta6",
        "outputId": "5a0cecde-4457-4673-b549-6c9ec9085d96"
      },
      "source": [
        "#creating a neural network without the flatten array \n",
        "#using keras.Flatten as a layer to flatten the data \n",
        "model = keras.Sequential([\n",
        "        tf.keras.layers.Flatten(input_shape=(28,28)),                \n",
        "        keras.layers.Dense(100,activation='tanh'),\n",
        "        keras.layers.Dense(10,activation='sigmoid')\n",
        "])\n",
        "#compiling the model\n",
        "model.compile(\n",
        "    optimizer='adam',\n",
        "    loss='sparse_categorical_crossentropy',\n",
        "    metrics=['accuracy']\n",
        ")\n",
        "\n",
        "#fitting model to training data\n",
        "model.fit(x_train,y_train,epochs=10)"
      ],
      "execution_count": 52,
      "outputs": [
        {
          "output_type": "stream",
          "name": "stdout",
          "text": [
            "Epoch 1/10\n",
            "1875/1875 [==============================] - 4s 2ms/step - loss: 0.2907 - accuracy: 0.9167\n",
            "Epoch 2/10\n",
            "1875/1875 [==============================] - 4s 2ms/step - loss: 0.1432 - accuracy: 0.9582\n",
            "Epoch 3/10\n",
            "1875/1875 [==============================] - 3s 2ms/step - loss: 0.0995 - accuracy: 0.9717\n",
            "Epoch 4/10\n",
            "1875/1875 [==============================] - 3s 2ms/step - loss: 0.0750 - accuracy: 0.9782\n",
            "Epoch 5/10\n",
            "1875/1875 [==============================] - 4s 2ms/step - loss: 0.0578 - accuracy: 0.9832\n",
            "Epoch 6/10\n",
            "1875/1875 [==============================] - 4s 2ms/step - loss: 0.0456 - accuracy: 0.9870\n",
            "Epoch 7/10\n",
            "1875/1875 [==============================] - 4s 2ms/step - loss: 0.0364 - accuracy: 0.9902\n",
            "Epoch 8/10\n",
            "1875/1875 [==============================] - 4s 2ms/step - loss: 0.0293 - accuracy: 0.9919\n",
            "Epoch 9/10\n",
            "1875/1875 [==============================] - 4s 2ms/step - loss: 0.0240 - accuracy: 0.9937\n",
            "Epoch 10/10\n",
            "1875/1875 [==============================] - 4s 2ms/step - loss: 0.0191 - accuracy: 0.9953\n"
          ]
        },
        {
          "output_type": "execute_result",
          "data": {
            "text/plain": [
              "<keras.callbacks.History at 0x7f526e7c5090>"
            ]
          },
          "metadata": {},
          "execution_count": 52
        }
      ]
    },
    {
      "cell_type": "code",
      "metadata": {
        "colab": {
          "base_uri": "https://localhost:8080/"
        },
        "id": "XJOUjSGvKKFZ",
        "outputId": "d9493034-7181-47c5-878b-bda6416e3ffc"
      },
      "source": [
        "#evaluating the model \n",
        "model.evaluate(x_test,y_test)"
      ],
      "execution_count": 53,
      "outputs": [
        {
          "output_type": "stream",
          "name": "stdout",
          "text": [
            "313/313 [==============================] - 0s 1ms/step - loss: 0.0808 - accuracy: 0.9764\n"
          ]
        },
        {
          "output_type": "execute_result",
          "data": {
            "text/plain": [
              "[0.0808078870177269, 0.9764000177383423]"
            ]
          },
          "metadata": {},
          "execution_count": 53
        }
      ]
    }
  ]
}
